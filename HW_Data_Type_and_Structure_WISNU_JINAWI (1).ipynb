{
  "nbformat": 4,
  "nbformat_minor": 0,
  "metadata": {
    "colab": {
      "name": "HW_Data_Type_and_Structure_WISNU JINAWI.ipynb",
      "provenance": []
    },
    "kernelspec": {
      "name": "python3",
      "display_name": "Python 3"
    },
    "language_info": {
      "name": "python"
    }
  },
  "cells": [
    {
      "cell_type": "code",
      "source": [
        "TASK 1 - MEDIUM LEVEL"
      ],
      "metadata": {
        "id": "eZiJjSOOgO-U"
      },
      "execution_count": null,
      "outputs": []
    },
    {
      "cell_type": "markdown",
      "source": [
        ""
      ],
      "metadata": {
        "id": "CgAZGOT4gN0u"
      }
    },
    {
      "cell_type": "code",
      "source": [
        ""
      ],
      "metadata": {
        "id": "NKBkucO_c8Ag"
      },
      "execution_count": null,
      "outputs": []
    },
    {
      "cell_type": "code",
      "source": [
        ""
      ],
      "metadata": {
        "id": "WUNm8RTLc8C4"
      },
      "execution_count": null,
      "outputs": []
    },
    {
      "cell_type": "code",
      "execution_count": null,
      "metadata": {
        "colab": {
          "base_uri": "https://localhost:8080/"
        },
        "id": "N-mAsh--fct2",
        "outputId": "c96e3007-0283-4929-db42-1ebcd25662be"
      },
      "outputs": [
        {
          "output_type": "stream",
          "name": "stdout",
          "text": [
            "malam\n",
            " is a Palindrome\n"
          ]
        }
      ],
      "source": [
        "n = input(\"\") #check palindrome\n",
        "if n == n[::-1]:\n",
        "    print(\" is a Palindrome\")\n",
        "else:\n",
        "    print(\" is not a Palindrome\")\n",
        "    \n",
        "    "
      ]
    },
    {
      "cell_type": "code",
      "source": [
        "   n = input(\"\") #check palindrome\n",
        "if n == n[::-1]:\n",
        "    print(\" is a Palindrome\")\n",
        "else:\n",
        "    print(\" is not a Palindrome\")\n",
        "    "
      ],
      "metadata": {
        "colab": {
          "base_uri": "https://localhost:8080/"
        },
        "id": "JAT8snsMfoYV",
        "outputId": "7bb390fb-63c9-4095-dbb5-803610e231cf"
      },
      "execution_count": null,
      "outputs": [
        {
          "output_type": "stream",
          "name": "stdout",
          "text": [
            "ABBA\n",
            " is a Palindrome\n"
          ]
        }
      ]
    },
    {
      "cell_type": "code",
      "source": [
        "n = input(\"\") #check palindrome\n",
        "if n == n[::-1]:\n",
        "    print(\" is a Palindrome\")\n",
        "else:\n",
        "    print(\" is not a Palindrome\")\n",
        "    "
      ],
      "metadata": {
        "colab": {
          "base_uri": "https://localhost:8080/"
        },
        "id": "A68HUH4tf5CZ",
        "outputId": "08d04713-4e41-40fa-f26f-fa595ba63894"
      },
      "execution_count": null,
      "outputs": [
        {
          "output_type": "stream",
          "name": "stdout",
          "text": [
            "Python\n",
            " is not a Palindrome\n"
          ]
        }
      ]
    },
    {
      "cell_type": "code",
      "source": [
        "TASK 2- MEDIUM LEVEL\n"
      ],
      "metadata": {
        "id": "jnlijGERgDZs"
      },
      "execution_count": null,
      "outputs": []
    },
    {
      "cell_type": "code",
      "source": [
        "for i in range(6):\n",
        "  sentence = input('').split()\n",
        "  blacklist_word = ['andi','susi','bola']\n",
        "  check = any(item in blacklist_word for item in sentence)\n",
        "  if check is True:\n",
        "    print('ada blacklist word')\n",
        "  else:\n",
        "    print('tidak ada blacklist word')\n"
      ],
      "metadata": {
        "colab": {
          "base_uri": "https://localhost:8080/"
        },
        "id": "EekH2Szrh-td",
        "outputId": "df46d328-482b-4892-81fe-cb3c49cabd2e"
      },
      "execution_count": null,
      "outputs": [
        {
          "output_type": "stream",
          "name": "stdout",
          "text": [
            "andi sedang makan nasi padang\n",
            "ada blacklist word\n",
            "sandi sedang makan bermain tenis\n",
            "tidak ada blacklist word\n",
            "andi dan sandi sedang makan \n",
            "ada blacklist word\n",
            "budi dan susi sedang makan\n",
            "ada blacklist word\n",
            "erna sedang berenang\n",
            "tidak ada blacklist word\n",
            "raffa sedang makan bermain bola\n",
            "ada blacklist word\n"
          ]
        }
      ]
    },
    {
      "cell_type": "code",
      "source": [
        ""
      ],
      "metadata": {
        "id": "bdFQIktVlDn5"
      },
      "execution_count": null,
      "outputs": []
    }
  ]
}